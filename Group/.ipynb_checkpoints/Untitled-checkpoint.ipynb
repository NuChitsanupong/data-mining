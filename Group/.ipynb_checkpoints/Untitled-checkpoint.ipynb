{
 "cells": [
  {
   "cell_type": "code",
   "execution_count": 10,
   "metadata": {},
   "outputs": [],
   "source": [
    "import pandas as pd\n",
    "import numpy as np\n",
    "import matplotlib.pyplot as plt\n",
    "import seaborn as sns\n",
    "%matplotlib inline\n",
    "\n",
    "from pandas.plotting import scatter_matrix\n",
    "from matplotlib import pyplot\n",
    "from sklearn.model_selection import train_test_split\n",
    "from sklearn.model_selection import cross_val_score\n",
    "from sklearn.model_selection import StratifiedKFold\n",
    "from sklearn.metrics import classification_report\n",
    "from sklearn.metrics import confusion_matrix\n",
    "from sklearn.metrics import accuracy_score\n",
    "from sklearn.linear_model import LogisticRegression\n",
    "from sklearn.tree import DecisionTreeClassifier\n",
    "from sklearn.neighbors import KNeighborsClassifier\n",
    "from sklearn.discriminant_analysis import LinearDiscriminantAnalysis\n",
    "from sklearn.naive_bayes import GaussianNB\n",
    "from sklearn.svm import SVC"
   ]
  },
  {
   "cell_type": "code",
   "execution_count": 4,
   "metadata": {},
   "outputs": [
    {
     "data": {
      "text/html": [
       "<div>\n",
       "<style scoped>\n",
       "    .dataframe tbody tr th:only-of-type {\n",
       "        vertical-align: middle;\n",
       "    }\n",
       "\n",
       "    .dataframe tbody tr th {\n",
       "        vertical-align: top;\n",
       "    }\n",
       "\n",
       "    .dataframe thead th {\n",
       "        text-align: right;\n",
       "    }\n",
       "</style>\n",
       "<table border=\"1\" class=\"dataframe\">\n",
       "  <thead>\n",
       "    <tr style=\"text-align: right;\">\n",
       "      <th></th>\n",
       "      <th>Species</th>\n",
       "      <th>Weight</th>\n",
       "      <th>Length1</th>\n",
       "      <th>Length2</th>\n",
       "      <th>Length3</th>\n",
       "      <th>Height</th>\n",
       "      <th>Width</th>\n",
       "    </tr>\n",
       "  </thead>\n",
       "  <tbody>\n",
       "    <tr>\n",
       "      <th>0</th>\n",
       "      <td>Bream</td>\n",
       "      <td>242.0</td>\n",
       "      <td>23.2</td>\n",
       "      <td>25.4</td>\n",
       "      <td>30.0</td>\n",
       "      <td>11.5200</td>\n",
       "      <td>4.0200</td>\n",
       "    </tr>\n",
       "    <tr>\n",
       "      <th>1</th>\n",
       "      <td>Bream</td>\n",
       "      <td>290.0</td>\n",
       "      <td>24.0</td>\n",
       "      <td>26.3</td>\n",
       "      <td>31.2</td>\n",
       "      <td>12.4800</td>\n",
       "      <td>4.3056</td>\n",
       "    </tr>\n",
       "    <tr>\n",
       "      <th>2</th>\n",
       "      <td>Bream</td>\n",
       "      <td>340.0</td>\n",
       "      <td>23.9</td>\n",
       "      <td>26.5</td>\n",
       "      <td>31.1</td>\n",
       "      <td>12.3778</td>\n",
       "      <td>4.6961</td>\n",
       "    </tr>\n",
       "    <tr>\n",
       "      <th>3</th>\n",
       "      <td>Bream</td>\n",
       "      <td>363.0</td>\n",
       "      <td>26.3</td>\n",
       "      <td>29.0</td>\n",
       "      <td>33.5</td>\n",
       "      <td>12.7300</td>\n",
       "      <td>4.4555</td>\n",
       "    </tr>\n",
       "    <tr>\n",
       "      <th>4</th>\n",
       "      <td>Bream</td>\n",
       "      <td>430.0</td>\n",
       "      <td>26.5</td>\n",
       "      <td>29.0</td>\n",
       "      <td>34.0</td>\n",
       "      <td>12.4440</td>\n",
       "      <td>5.1340</td>\n",
       "    </tr>\n",
       "  </tbody>\n",
       "</table>\n",
       "</div>"
      ],
      "text/plain": [
       "  Species  Weight  Length1  Length2  Length3   Height   Width\n",
       "0   Bream   242.0     23.2     25.4     30.0  11.5200  4.0200\n",
       "1   Bream   290.0     24.0     26.3     31.2  12.4800  4.3056\n",
       "2   Bream   340.0     23.9     26.5     31.1  12.3778  4.6961\n",
       "3   Bream   363.0     26.3     29.0     33.5  12.7300  4.4555\n",
       "4   Bream   430.0     26.5     29.0     34.0  12.4440  5.1340"
      ]
     },
     "execution_count": 4,
     "metadata": {},
     "output_type": "execute_result"
    }
   ],
   "source": [
    "dataset = pd.read_csv(\"Fish.csv\")\n",
    "dataset.head()"
   ]
  },
  {
   "cell_type": "code",
   "execution_count": 22,
   "metadata": {},
   "outputs": [],
   "source": [
    "input_vars = ['Weight', 'Length1', 'Length2', 'Length3', 'Height', 'Width']"
   ]
  },
  {
   "cell_type": "code",
   "execution_count": 5,
   "metadata": {},
   "outputs": [
    {
     "data": {
      "text/plain": [
       "<matplotlib.axes._subplots.AxesSubplot at 0x26f44f9f4a8>"
      ]
     },
     "execution_count": 5,
     "metadata": {},
     "output_type": "execute_result"
    },
    {
     "data": {
      "image/png": "[encoded data removed]",
      "text/plain": [
       "<Figure size 432x288 with 1 Axes>"
      ]
     },
     "metadata": {
      "needs_background": "light"
     },
     "output_type": "display_data"
    }
   ],
   "source": [
    "sns.heatmap(dataset.isnull(),yticklabels=False,cbar=False,cmap='viridis')"
   ]
  },
  {
   "cell_type": "code",
   "execution_count": 6,
   "metadata": {},
   "outputs": [
    {
     "data": {
      "text/html": [
       "<div>\n",
       "<style scoped>\n",
       "    .dataframe tbody tr th:only-of-type {\n",
       "        vertical-align: middle;\n",
       "    }\n",
       "\n",
       "    .dataframe tbody tr th {\n",
       "        vertical-align: top;\n",
       "    }\n",
       "\n",
       "    .dataframe thead th {\n",
       "        text-align: right;\n",
       "    }\n",
       "</style>\n",
       "<table border=\"1\" class=\"dataframe\">\n",
       "  <thead>\n",
       "    <tr style=\"text-align: right;\">\n",
       "      <th></th>\n",
       "      <th>Weight</th>\n",
       "      <th>Length1</th>\n",
       "      <th>Length2</th>\n",
       "      <th>Length3</th>\n",
       "      <th>Height</th>\n",
       "      <th>Width</th>\n",
       "    </tr>\n",
       "  </thead>\n",
       "  <tbody>\n",
       "    <tr>\n",
       "      <th>count</th>\n",
       "      <td>159.000000</td>\n",
       "      <td>159.000000</td>\n",
       "      <td>159.000000</td>\n",
       "      <td>159.000000</td>\n",
       "      <td>159.000000</td>\n",
       "      <td>159.000000</td>\n",
       "    </tr>\n",
       "    <tr>\n",
       "      <th>mean</th>\n",
       "      <td>398.326415</td>\n",
       "      <td>26.247170</td>\n",
       "      <td>28.415723</td>\n",
       "      <td>31.227044</td>\n",
       "      <td>8.970994</td>\n",
       "      <td>4.417486</td>\n",
       "    </tr>\n",
       "    <tr>\n",
       "      <th>std</th>\n",
       "      <td>357.978317</td>\n",
       "      <td>9.996441</td>\n",
       "      <td>10.716328</td>\n",
       "      <td>11.610246</td>\n",
       "      <td>4.286208</td>\n",
       "      <td>1.685804</td>\n",
       "    </tr>\n",
       "    <tr>\n",
       "      <th>min</th>\n",
       "      <td>0.000000</td>\n",
       "      <td>7.500000</td>\n",
       "      <td>8.400000</td>\n",
       "      <td>8.800000</td>\n",
       "      <td>1.728400</td>\n",
       "      <td>1.047600</td>\n",
       "    </tr>\n",
       "    <tr>\n",
       "      <th>25%</th>\n",
       "      <td>120.000000</td>\n",
       "      <td>19.050000</td>\n",
       "      <td>21.000000</td>\n",
       "      <td>23.150000</td>\n",
       "      <td>5.944800</td>\n",
       "      <td>3.385650</td>\n",
       "    </tr>\n",
       "    <tr>\n",
       "      <th>50%</th>\n",
       "      <td>273.000000</td>\n",
       "      <td>25.200000</td>\n",
       "      <td>27.300000</td>\n",
       "      <td>29.400000</td>\n",
       "      <td>7.786000</td>\n",
       "      <td>4.248500</td>\n",
       "    </tr>\n",
       "    <tr>\n",
       "      <th>75%</th>\n",
       "      <td>650.000000</td>\n",
       "      <td>32.700000</td>\n",
       "      <td>35.500000</td>\n",
       "      <td>39.650000</td>\n",
       "      <td>12.365900</td>\n",
       "      <td>5.584500</td>\n",
       "    </tr>\n",
       "    <tr>\n",
       "      <th>max</th>\n",
       "      <td>1650.000000</td>\n",
       "      <td>59.000000</td>\n",
       "      <td>63.400000</td>\n",
       "      <td>68.000000</td>\n",
       "      <td>18.957000</td>\n",
       "      <td>8.142000</td>\n",
       "    </tr>\n",
       "  </tbody>\n",
       "</table>\n",
       "</div>"
      ],
      "text/plain": [
       "            Weight     Length1     Length2     Length3      Height       Width\n",
       "count   159.000000  159.000000  159.000000  159.000000  159.000000  159.000000\n",
       "mean    398.326415   26.247170   28.415723   31.227044    8.970994    4.417486\n",
       "std     357.978317    9.996441   10.716328   11.610246    4.286208    1.685804\n",
       "min       0.000000    7.500000    8.400000    8.800000    1.728400    1.047600\n",
       "25%     120.000000   19.050000   21.000000   23.150000    5.944800    3.385650\n",
       "50%     273.000000   25.200000   27.300000   29.400000    7.786000    4.248500\n",
       "75%     650.000000   32.700000   35.500000   39.650000   12.365900    5.584500\n",
       "max    1650.000000   59.000000   63.400000   68.000000   18.957000    8.142000"
      ]
     },
     "execution_count": 6,
     "metadata": {},
     "output_type": "execute_result"
    }
   ],
   "source": [
    "dataset.describe()"
   ]
  },
  {
   "cell_type": "code",
   "execution_count": 7,
   "metadata": {},
   "outputs": [
    {
     "data": {
      "text/plain": [
       "Species\n",
       "Bream        35\n",
       "Parkki       11\n",
       "Perch        56\n",
       "Pike         17\n",
       "Roach        20\n",
       "Smelt        14\n",
       "Whitefish     6\n",
       "dtype: int64"
      ]
     },
     "execution_count": 7,
     "metadata": {},
     "output_type": "execute_result"
    }
   ],
   "source": [
    "dataset.groupby('Species').size()"
   ]
  },
  {
   "cell_type": "code",
   "execution_count": 8,
   "metadata": {},
   "outputs": [
    {
     "data": {
      "text/plain": [
       "array([[<matplotlib.axes._subplots.AxesSubplot object at 0x0000026F45700828>,\n",
       "        <matplotlib.axes._subplots.AxesSubplot object at 0x0000026F4579D3C8>],\n",
       "       [<matplotlib.axes._subplots.AxesSubplot object at 0x0000026F457CD978>,\n",
       "        <matplotlib.axes._subplots.AxesSubplot object at 0x0000026F45800F28>],\n",
       "       [<matplotlib.axes._subplots.AxesSubplot object at 0x0000026F45841518>,\n",
       "        <matplotlib.axes._subplots.AxesSubplot object at 0x0000026F45870AC8>]],\n",
       "      dtype=object)"
      ]
     },
     "execution_count": 8,
     "metadata": {},
     "output_type": "execute_result"
    },
    {
     "data": {
      "image/png": "[encoded data removed]",
      "text/plain": [
       "<Figure size 1152x648 with 6 Axes>"
      ]
     },
     "metadata": {
      "needs_background": "light"
     },
     "output_type": "display_data"
    }
   ],
   "source": [
    "dataset.hist(figsize=(16,9))"
   ]
  },
  {
   "cell_type": "code",
   "execution_count": 18,
   "metadata": {},
   "outputs": [
    {
     "data": {
      "text/html": [
       "<div>\n",
       "<style scoped>\n",
       "    .dataframe tbody tr th:only-of-type {\n",
       "        vertical-align: middle;\n",
       "    }\n",
       "\n",
       "    .dataframe tbody tr th {\n",
       "        vertical-align: top;\n",
       "    }\n",
       "\n",
       "    .dataframe thead th {\n",
       "        text-align: right;\n",
       "    }\n",
       "</style>\n",
       "<table border=\"1\" class=\"dataframe\">\n",
       "  <thead>\n",
       "    <tr style=\"text-align: right;\">\n",
       "      <th></th>\n",
       "      <th>Weight</th>\n",
       "      <th>Length1</th>\n",
       "      <th>Length2</th>\n",
       "      <th>Length3</th>\n",
       "      <th>Height</th>\n",
       "      <th>Width</th>\n",
       "    </tr>\n",
       "  </thead>\n",
       "  <tbody>\n",
       "    <tr>\n",
       "      <th>0</th>\n",
       "      <td>242.0</td>\n",
       "      <td>23.2</td>\n",
       "      <td>25.4</td>\n",
       "      <td>30.0</td>\n",
       "      <td>11.5200</td>\n",
       "      <td>4.0200</td>\n",
       "    </tr>\n",
       "    <tr>\n",
       "      <th>1</th>\n",
       "      <td>290.0</td>\n",
       "      <td>24.0</td>\n",
       "      <td>26.3</td>\n",
       "      <td>31.2</td>\n",
       "      <td>12.4800</td>\n",
       "      <td>4.3056</td>\n",
       "    </tr>\n",
       "    <tr>\n",
       "      <th>2</th>\n",
       "      <td>340.0</td>\n",
       "      <td>23.9</td>\n",
       "      <td>26.5</td>\n",
       "      <td>31.1</td>\n",
       "      <td>12.3778</td>\n",
       "      <td>4.6961</td>\n",
       "    </tr>\n",
       "    <tr>\n",
       "      <th>3</th>\n",
       "      <td>363.0</td>\n",
       "      <td>26.3</td>\n",
       "      <td>29.0</td>\n",
       "      <td>33.5</td>\n",
       "      <td>12.7300</td>\n",
       "      <td>4.4555</td>\n",
       "    </tr>\n",
       "    <tr>\n",
       "      <th>4</th>\n",
       "      <td>430.0</td>\n",
       "      <td>26.5</td>\n",
       "      <td>29.0</td>\n",
       "      <td>34.0</td>\n",
       "      <td>12.4440</td>\n",
       "      <td>5.1340</td>\n",
       "    </tr>\n",
       "  </tbody>\n",
       "</table>\n",
       "</div>"
      ],
      "text/plain": [
       "   Weight  Length1  Length2  Length3   Height   Width\n",
       "0   242.0     23.2     25.4     30.0  11.5200  4.0200\n",
       "1   290.0     24.0     26.3     31.2  12.4800  4.3056\n",
       "2   340.0     23.9     26.5     31.1  12.3778  4.6961\n",
       "3   363.0     26.3     29.0     33.5  12.7300  4.4555\n",
       "4   430.0     26.5     29.0     34.0  12.4440  5.1340"
      ]
     },
     "execution_count": 18,
     "metadata": {},
     "output_type": "execute_result"
    }
   ],
   "source": [
    "df_dataset = dataset.iloc[:,1:].copy()\n",
    "df_dataset.head()"
   ]
  },
  {
   "cell_type": "code",
   "execution_count": 19,
   "metadata": {},
   "outputs": [
    {
     "data": {
      "text/html": [
       "<div>\n",
       "<style scoped>\n",
       "    .dataframe tbody tr th:only-of-type {\n",
       "        vertical-align: middle;\n",
       "    }\n",
       "\n",
       "    .dataframe tbody tr th {\n",
       "        vertical-align: top;\n",
       "    }\n",
       "\n",
       "    .dataframe thead th {\n",
       "        text-align: right;\n",
       "    }\n",
       "</style>\n",
       "<table border=\"1\" class=\"dataframe\">\n",
       "  <thead>\n",
       "    <tr style=\"text-align: right;\">\n",
       "      <th></th>\n",
       "      <th>Weight</th>\n",
       "      <th>Length1</th>\n",
       "      <th>Length2</th>\n",
       "      <th>Length3</th>\n",
       "      <th>Height</th>\n",
       "      <th>Width</th>\n",
       "    </tr>\n",
       "  </thead>\n",
       "  <tbody>\n",
       "    <tr>\n",
       "      <th>0</th>\n",
       "      <td>0.146667</td>\n",
       "      <td>0.304854</td>\n",
       "      <td>0.309091</td>\n",
       "      <td>0.358108</td>\n",
       "      <td>0.568334</td>\n",
       "      <td>0.418978</td>\n",
       "    </tr>\n",
       "    <tr>\n",
       "      <th>1</th>\n",
       "      <td>0.175758</td>\n",
       "      <td>0.320388</td>\n",
       "      <td>0.325455</td>\n",
       "      <td>0.378378</td>\n",
       "      <td>0.624055</td>\n",
       "      <td>0.459235</td>\n",
       "    </tr>\n",
       "    <tr>\n",
       "      <th>2</th>\n",
       "      <td>0.206061</td>\n",
       "      <td>0.318447</td>\n",
       "      <td>0.329091</td>\n",
       "      <td>0.376689</td>\n",
       "      <td>0.618123</td>\n",
       "      <td>0.514279</td>\n",
       "    </tr>\n",
       "    <tr>\n",
       "      <th>3</th>\n",
       "      <td>0.220000</td>\n",
       "      <td>0.365049</td>\n",
       "      <td>0.374545</td>\n",
       "      <td>0.417230</td>\n",
       "      <td>0.638566</td>\n",
       "      <td>0.480365</td>\n",
       "    </tr>\n",
       "    <tr>\n",
       "      <th>4</th>\n",
       "      <td>0.260606</td>\n",
       "      <td>0.368932</td>\n",
       "      <td>0.374545</td>\n",
       "      <td>0.425676</td>\n",
       "      <td>0.621966</td>\n",
       "      <td>0.576004</td>\n",
       "    </tr>\n",
       "  </tbody>\n",
       "</table>\n",
       "</div>"
      ],
      "text/plain": [
       "     Weight   Length1   Length2   Length3    Height     Width\n",
       "0  0.146667  0.304854  0.309091  0.358108  0.568334  0.418978\n",
       "1  0.175758  0.320388  0.325455  0.378378  0.624055  0.459235\n",
       "2  0.206061  0.318447  0.329091  0.376689  0.618123  0.514279\n",
       "3  0.220000  0.365049  0.374545  0.417230  0.638566  0.480365\n",
       "4  0.260606  0.368932  0.374545  0.425676  0.621966  0.576004"
      ]
     },
     "execution_count": 19,
     "metadata": {},
     "output_type": "execute_result"
    }
   ],
   "source": [
    "normalized_df_dataset=(df_dataset-df_dataset.min())/(df_dataset.max()-df_dataset.min())\n",
    "normalized_df_dataset.head()"
   ]
  },
  {
   "cell_type": "code",
   "execution_count": 20,
   "metadata": {},
   "outputs": [
    {
     "data": {
      "text/html": [
       "<div>\n",
       "<style scoped>\n",
       "    .dataframe tbody tr th:only-of-type {\n",
       "        vertical-align: middle;\n",
       "    }\n",
       "\n",
       "    .dataframe tbody tr th {\n",
       "        vertical-align: top;\n",
       "    }\n",
       "\n",
       "    .dataframe thead th {\n",
       "        text-align: right;\n",
       "    }\n",
       "</style>\n",
       "<table border=\"1\" class=\"dataframe\">\n",
       "  <thead>\n",
       "    <tr style=\"text-align: right;\">\n",
       "      <th></th>\n",
       "      <th>Species</th>\n",
       "      <th>Weight</th>\n",
       "      <th>Length1</th>\n",
       "      <th>Length2</th>\n",
       "      <th>Length3</th>\n",
       "      <th>Height</th>\n",
       "      <th>Width</th>\n",
       "    </tr>\n",
       "  </thead>\n",
       "  <tbody>\n",
       "    <tr>\n",
       "      <th>0</th>\n",
       "      <td>Bream</td>\n",
       "      <td>0.146667</td>\n",
       "      <td>0.304854</td>\n",
       "      <td>0.309091</td>\n",
       "      <td>0.358108</td>\n",
       "      <td>0.568334</td>\n",
       "      <td>0.418978</td>\n",
       "    </tr>\n",
       "    <tr>\n",
       "      <th>1</th>\n",
       "      <td>Bream</td>\n",
       "      <td>0.175758</td>\n",
       "      <td>0.320388</td>\n",
       "      <td>0.325455</td>\n",
       "      <td>0.378378</td>\n",
       "      <td>0.624055</td>\n",
       "      <td>0.459235</td>\n",
       "    </tr>\n",
       "    <tr>\n",
       "      <th>2</th>\n",
       "      <td>Bream</td>\n",
       "      <td>0.206061</td>\n",
       "      <td>0.318447</td>\n",
       "      <td>0.329091</td>\n",
       "      <td>0.376689</td>\n",
       "      <td>0.618123</td>\n",
       "      <td>0.514279</td>\n",
       "    </tr>\n",
       "    <tr>\n",
       "      <th>3</th>\n",
       "      <td>Bream</td>\n",
       "      <td>0.220000</td>\n",
       "      <td>0.365049</td>\n",
       "      <td>0.374545</td>\n",
       "      <td>0.417230</td>\n",
       "      <td>0.638566</td>\n",
       "      <td>0.480365</td>\n",
       "    </tr>\n",
       "    <tr>\n",
       "      <th>4</th>\n",
       "      <td>Bream</td>\n",
       "      <td>0.260606</td>\n",
       "      <td>0.368932</td>\n",
       "      <td>0.374545</td>\n",
       "      <td>0.425676</td>\n",
       "      <td>0.621966</td>\n",
       "      <td>0.576004</td>\n",
       "    </tr>\n",
       "  </tbody>\n",
       "</table>\n",
       "</div>"
      ],
      "text/plain": [
       "  Species    Weight   Length1   Length2   Length3    Height     Width\n",
       "0   Bream  0.146667  0.304854  0.309091  0.358108  0.568334  0.418978\n",
       "1   Bream  0.175758  0.320388  0.325455  0.378378  0.624055  0.459235\n",
       "2   Bream  0.206061  0.318447  0.329091  0.376689  0.618123  0.514279\n",
       "3   Bream  0.220000  0.365049  0.374545  0.417230  0.638566  0.480365\n",
       "4   Bream  0.260606  0.368932  0.374545  0.425676  0.621966  0.576004"
      ]
     },
     "execution_count": 20,
     "metadata": {},
     "output_type": "execute_result"
    }
   ],
   "source": [
    "df_dataset = pd.concat([dataset.iloc[:,:1],normalized_df_dataset], axis=1)\n",
    "df_dataset.head()"
   ]
  },
  {
   "cell_type": "code",
   "execution_count": 21,
   "metadata": {},
   "outputs": [],
   "source": [
    "df_forward = df_dataset.copy()"
   ]
  },
  {
   "cell_type": "code",
   "execution_count": 24,
   "metadata": {},
   "outputs": [
    {
     "data": {
      "text/plain": [
       "array([14.95248684, 38.30409388, 39.61838421, 42.8787642 , 78.84596743,\n",
       "       23.46513207])"
      ]
     },
     "execution_count": 24,
     "metadata": {},
     "output_type": "execute_result"
    }
   ],
   "source": [
    "# f_regression receives input features and output\n",
    "#              and returns f-statistic and p-value for f-test \n",
    "# f-test is to used to test whether model fits data well or not \n",
    "# the more f-statistic (the lower p-value), the better\n",
    "\n",
    "from sklearn.feature_selection import f_classif\n",
    "fstat, pval = f_classif(df_forward[input_vars], df_forward.Species)\n",
    "fstat"
   ]
  },
  {
   "cell_type": "code",
   "execution_count": 25,
   "metadata": {},
   "outputs": [
    {
     "data": {
      "text/plain": [
       "array([2.11265310e-13, 4.39075207e-28, 9.53034394e-29, 2.44417139e-30,\n",
       "       3.70172329e-44, 1.64252856e-19])"
      ]
     },
     "execution_count": 25,
     "metadata": {},
     "output_type": "execute_result"
    }
   ],
   "source": [
    "pval"
   ]
  },
  {
   "cell_type": "code",
   "execution_count": 37,
   "metadata": {},
   "outputs": [
    {
     "data": {
      "text/plain": [
       "['Weight', 'Length1', 'Length2', 'Length3', 'Height']"
      ]
     },
     "execution_count": 37,
     "metadata": {},
     "output_type": "execute_result"
    }
   ],
   "source": [
    "f_value_threshold = 10\n",
    "updated_vars = []\n",
    "for i in range(0,len(input_vars)-1):\n",
    "    if fstat[i] >= f_value_threshold:\n",
    "        updated_vars.append(df_forward[input_vars].columns[i])\n",
    "updated_vars"
   ]
  },
  {
   "cell_type": "code",
   "execution_count": null,
   "metadata": {},
   "outputs": [],
   "source": []
  },
  {
   "cell_type": "code",
   "execution_count": 38,
   "metadata": {},
   "outputs": [],
   "source": [
    "df_random_forest = df_dataset.copy()"
   ]
  },
  {
   "cell_type": "code",
   "execution_count": 39,
   "metadata": {},
   "outputs": [
    {
     "ename": "ValueError",
     "evalue": "could not convert string to float: 'Bream'",
     "output_type": "error",
     "traceback": [
      "\u001b[1;31m---------------------------------------------------------------------------\u001b[0m",
      "\u001b[1;31mValueError\u001b[0m                                Traceback (most recent call last)",
      "\u001b[1;32m<ipython-input-39-5db8875a090d>\u001b[0m in \u001b[0;36m<module>\u001b[1;34m\u001b[0m\n\u001b[0;32m      5\u001b[0m \u001b[1;32mfrom\u001b[0m \u001b[0msklearn\u001b[0m\u001b[1;33m.\u001b[0m\u001b[0mensemble\u001b[0m \u001b[1;32mimport\u001b[0m \u001b[0mRandomForestRegressor\u001b[0m\u001b[1;33m\u001b[0m\u001b[1;33m\u001b[0m\u001b[0m\n\u001b[0;32m      6\u001b[0m \u001b[0mmodel\u001b[0m \u001b[1;33m=\u001b[0m \u001b[0mRandomForestRegressor\u001b[0m\u001b[1;33m(\u001b[0m\u001b[0mmax_depth\u001b[0m\u001b[1;33m=\u001b[0m\u001b[1;36m10\u001b[0m\u001b[1;33m,\u001b[0m\u001b[0mn_estimators\u001b[0m\u001b[1;33m=\u001b[0m\u001b[1;36m100\u001b[0m\u001b[1;33m)\u001b[0m\u001b[1;33m\u001b[0m\u001b[1;33m\u001b[0m\u001b[0m\n\u001b[1;32m----> 7\u001b[1;33m \u001b[0mmodel\u001b[0m\u001b[1;33m.\u001b[0m\u001b[0mfit\u001b[0m\u001b[1;33m(\u001b[0m\u001b[0mdf_random_forest\u001b[0m\u001b[1;33m[\u001b[0m\u001b[0minput_vars\u001b[0m\u001b[1;33m]\u001b[0m\u001b[1;33m,\u001b[0m\u001b[0mdf_random_forest\u001b[0m\u001b[1;33m.\u001b[0m\u001b[0mSpecies\u001b[0m\u001b[1;33m)\u001b[0m\u001b[1;33m\u001b[0m\u001b[1;33m\u001b[0m\u001b[0m\n\u001b[0m\u001b[0;32m      8\u001b[0m \u001b[1;33m\u001b[0m\u001b[0m\n\u001b[0;32m      9\u001b[0m \u001b[0mn_features\u001b[0m \u001b[1;33m=\u001b[0m \u001b[1;36m5\u001b[0m\u001b[1;33m\u001b[0m\u001b[1;33m\u001b[0m\u001b[0m\n",
      "\u001b[1;32m~\\Anaconda3\\lib\\site-packages\\sklearn\\ensemble\\_forest.py\u001b[0m in \u001b[0;36mfit\u001b[1;34m(self, X, y, sample_weight)\u001b[0m\n\u001b[0;32m    322\u001b[0m \u001b[1;33m\u001b[0m\u001b[0m\n\u001b[0;32m    323\u001b[0m         \u001b[1;32mif\u001b[0m \u001b[0mgetattr\u001b[0m\u001b[1;33m(\u001b[0m\u001b[0my\u001b[0m\u001b[1;33m,\u001b[0m \u001b[1;34m\"dtype\"\u001b[0m\u001b[1;33m,\u001b[0m \u001b[1;32mNone\u001b[0m\u001b[1;33m)\u001b[0m \u001b[1;33m!=\u001b[0m \u001b[0mDOUBLE\u001b[0m \u001b[1;32mor\u001b[0m \u001b[1;32mnot\u001b[0m \u001b[0my\u001b[0m\u001b[1;33m.\u001b[0m\u001b[0mflags\u001b[0m\u001b[1;33m.\u001b[0m\u001b[0mcontiguous\u001b[0m\u001b[1;33m:\u001b[0m\u001b[1;33m\u001b[0m\u001b[1;33m\u001b[0m\u001b[0m\n\u001b[1;32m--> 324\u001b[1;33m             \u001b[0my\u001b[0m \u001b[1;33m=\u001b[0m \u001b[0mnp\u001b[0m\u001b[1;33m.\u001b[0m\u001b[0mascontiguousarray\u001b[0m\u001b[1;33m(\u001b[0m\u001b[0my\u001b[0m\u001b[1;33m,\u001b[0m \u001b[0mdtype\u001b[0m\u001b[1;33m=\u001b[0m\u001b[0mDOUBLE\u001b[0m\u001b[1;33m)\u001b[0m\u001b[1;33m\u001b[0m\u001b[1;33m\u001b[0m\u001b[0m\n\u001b[0m\u001b[0;32m    325\u001b[0m \u001b[1;33m\u001b[0m\u001b[0m\n\u001b[0;32m    326\u001b[0m         \u001b[1;32mif\u001b[0m \u001b[0mexpanded_class_weight\u001b[0m \u001b[1;32mis\u001b[0m \u001b[1;32mnot\u001b[0m \u001b[1;32mNone\u001b[0m\u001b[1;33m:\u001b[0m\u001b[1;33m\u001b[0m\u001b[1;33m\u001b[0m\u001b[0m\n",
      "\u001b[1;32m~\\Anaconda3\\lib\\site-packages\\numpy\\core\\_asarray.py\u001b[0m in \u001b[0;36mascontiguousarray\u001b[1;34m(a, dtype)\u001b[0m\n\u001b[0;32m    177\u001b[0m \u001b[1;33m\u001b[0m\u001b[0m\n\u001b[0;32m    178\u001b[0m     \"\"\"\n\u001b[1;32m--> 179\u001b[1;33m     \u001b[1;32mreturn\u001b[0m \u001b[0marray\u001b[0m\u001b[1;33m(\u001b[0m\u001b[0ma\u001b[0m\u001b[1;33m,\u001b[0m \u001b[0mdtype\u001b[0m\u001b[1;33m,\u001b[0m \u001b[0mcopy\u001b[0m\u001b[1;33m=\u001b[0m\u001b[1;32mFalse\u001b[0m\u001b[1;33m,\u001b[0m \u001b[0morder\u001b[0m\u001b[1;33m=\u001b[0m\u001b[1;34m'C'\u001b[0m\u001b[1;33m,\u001b[0m \u001b[0mndmin\u001b[0m\u001b[1;33m=\u001b[0m\u001b[1;36m1\u001b[0m\u001b[1;33m)\u001b[0m\u001b[1;33m\u001b[0m\u001b[1;33m\u001b[0m\u001b[0m\n\u001b[0m\u001b[0;32m    180\u001b[0m \u001b[1;33m\u001b[0m\u001b[0m\n\u001b[0;32m    181\u001b[0m \u001b[1;33m\u001b[0m\u001b[0m\n",
      "\u001b[1;31mValueError\u001b[0m: could not convert string to float: 'Bream'"
     ]
    }
   ],
   "source": [
    "# RandomForestRegressor receives parameters for random forest such as depth of tree, number of trees\n",
    "\n",
    "# n_features = number of selected features\n",
    "\n",
    "from sklearn.ensemble import RandomForestRegressor\n",
    "model = RandomForestRegressor(max_depth=10,n_estimators=100)\n",
    "model.fit(df_random_forest[input_vars],df_random_forest.Species)\n",
    "\n",
    "n_features = 5\n",
    "\n",
    "# Plot feature importance\n",
    "features = df_random_forest[input_vars].columns\n",
    "importances = model.feature_importances_\n",
    "indices = np.argsort(importances)[-n_features:]  # sort top n features\n",
    "plt.title('Feature Importances')\n",
    "plt.barh(range(len(indices)), importances[indices], color='b', align='center')\n",
    "plt.yticks(range(len(indices)), [features[i] for i in indices])\n",
    "plt.xlabel('Relative Importance')\n",
    "plt.show()\n",
    "\n",
    "# Choose features with large feature importance"
   ]
  },
  {
   "cell_type": "code",
   "execution_count": null,
   "metadata": {},
   "outputs": [],
   "source": []
  },
  {
   "cell_type": "code",
   "execution_count": null,
   "metadata": {},
   "outputs": [],
   "source": []
  },
  {
   "cell_type": "code",
   "execution_count": null,
   "metadata": {},
   "outputs": [],
   "source": []
  },
  {
   "cell_type": "code",
   "execution_count": null,
   "metadata": {},
   "outputs": [],
   "source": []
  },
  {
   "cell_type": "code",
   "execution_count": null,
   "metadata": {},
   "outputs": [],
   "source": []
  },
  {
   "cell_type": "code",
   "execution_count": 11,
   "metadata": {},
   "outputs": [],
   "source": [
    "# Split-out validation dataset\n",
    "array = dataset.values\n",
    "X = array[:,1:6]\n",
    "y = array[:,0]\n",
    "X_train, X_validation, Y_train, Y_validation = train_test_split(X, y, test_size=0.20, random_state=1)"
   ]
  },
  {
   "cell_type": "code",
   "execution_count": 12,
   "metadata": {},
   "outputs": [
    {
     "data": {
      "text/plain": [
       "array([[242.0, 23.2, 25.4, 30.0, 11.52],\n",
       "       [290.0, 24.0, 26.3, 31.2, 12.48],\n",
       "       [340.0, 23.9, 26.5, 31.1, 12.3778],\n",
       "       [363.0, 26.3, 29.0, 33.5, 12.73],\n",
       "       [430.0, 26.5, 29.0, 34.0, 12.444],\n",
       "       [450.0, 26.8, 29.7, 34.7, 13.6024],\n",
       "       [500.0, 26.8, 29.7, 34.5, 14.1795],\n",
       "       [390.0, 27.6, 30.0, 35.0, 12.67],\n",
       "       [450.0, 27.6, 30.0, 35.1, 14.0049],\n",
       "       [500.0, 28.5, 30.7, 36.2, 14.2266],\n",
       "       [475.0, 28.4, 31.0, 36.2, 14.2628],\n",
       "       [500.0, 28.7, 31.0, 36.2, 14.3714],\n",
       "       [500.0, 29.1, 31.5, 36.4, 13.7592],\n",
       "       [340.0, 29.5, 32.0, 37.3, 13.9129],\n",
       "       [600.0, 29.4, 32.0, 37.2, 14.9544],\n",
       "       [600.0, 29.4, 32.0, 37.2, 15.437999999999999],\n",
       "       [700.0, 30.4, 33.0, 38.3, 14.8604],\n",
       "       [700.0, 30.4, 33.0, 38.5, 14.937999999999999],\n",
       "       [610.0, 30.9, 33.5, 38.6, 15.633],\n",
       "       [650.0, 31.0, 33.5, 38.7, 14.4738],\n",
       "       [575.0, 31.3, 34.0, 39.5, 15.1285],\n",
       "       [685.0, 31.4, 34.0, 39.2, 15.9936],\n",
       "       [620.0, 31.5, 34.5, 39.7, 15.5227],\n",
       "       [680.0, 31.8, 35.0, 40.6, 15.4686],\n",
       "       [700.0, 31.9, 35.0, 40.5, 16.2405],\n",
       "       [725.0, 31.8, 35.0, 40.9, 16.36],\n",
       "       [720.0, 32.0, 35.0, 40.6, 16.3618],\n",
       "       [714.0, 32.7, 36.0, 41.5, 16.517],\n",
       "       [850.0, 32.8, 36.0, 41.6, 16.8896],\n",
       "       [1000.0, 33.5, 37.0, 42.6, 18.957],\n",
       "       [920.0, 35.0, 38.5, 44.1, 18.0369],\n",
       "       [955.0, 35.0, 38.5, 44.0, 18.084],\n",
       "       [925.0, 36.2, 39.5, 45.3, 18.7542],\n",
       "       [975.0, 37.4, 41.0, 45.9, 18.6354],\n",
       "       [950.0, 38.0, 41.0, 46.5, 17.6235],\n",
       "       [40.0, 12.9, 14.1, 16.2, 4.1472],\n",
       "       [69.0, 16.5, 18.2, 20.3, 5.2983],\n",
       "       [78.0, 17.5, 18.8, 21.2, 5.5756],\n",
       "       [87.0, 18.2, 19.8, 22.2, 5.6166],\n",
       "       [120.0, 18.6, 20.0, 22.2, 6.216],\n",
       "       [0.0, 19.0, 20.5, 22.8, 6.4752],\n",
       "       [110.0, 19.1, 20.8, 23.1, 6.1677],\n",
       "       [120.0, 19.4, 21.0, 23.7, 6.1146],\n",
       "       [150.0, 20.4, 22.0, 24.7, 5.8045],\n",
       "       [145.0, 20.5, 22.0, 24.3, 6.6339],\n",
       "       [160.0, 20.5, 22.5, 25.3, 7.0334],\n",
       "       [140.0, 21.0, 22.5, 25.0, 6.55],\n",
       "       [160.0, 21.1, 22.5, 25.0, 6.4],\n",
       "       [169.0, 22.0, 24.0, 27.2, 7.5344],\n",
       "       [161.0, 22.0, 23.4, 26.7, 6.9153],\n",
       "       [200.0, 22.1, 23.5, 26.8, 7.3968],\n",
       "       [180.0, 23.6, 25.2, 27.9, 7.0866],\n",
       "       [290.0, 24.0, 26.0, 29.2, 8.8768],\n",
       "       [272.0, 25.0, 27.0, 30.6, 8.568],\n",
       "       [390.0, 29.5, 31.7, 35.0, 9.485],\n",
       "       [270.0, 23.6, 26.0, 28.7, 8.3804],\n",
       "       [270.0, 24.1, 26.5, 29.3, 8.1454],\n",
       "       [306.0, 25.6, 28.0, 30.8, 8.777999999999999],\n",
       "       [540.0, 28.5, 31.0, 34.0, 10.744000000000002],\n",
       "       [800.0, 33.7, 36.4, 39.6, 11.7612],\n",
       "       [1000.0, 37.3, 40.0, 43.5, 12.354000000000001],\n",
       "       [55.0, 13.5, 14.7, 16.5, 6.8475],\n",
       "       [60.0, 14.3, 15.5, 17.4, 6.5772],\n",
       "       [90.0, 16.3, 17.7, 19.8, 7.4052],\n",
       "       [120.0, 17.5, 19.0, 21.3, 8.3922],\n",
       "       [150.0, 18.4, 20.0, 22.4, 8.8928],\n",
       "       [140.0, 19.0, 20.7, 23.2, 8.5376],\n",
       "       [170.0, 19.0, 20.7, 23.2, 9.396],\n",
       "       [145.0, 19.8, 21.5, 24.1, 9.7364],\n",
       "       [200.0, 21.2, 23.0, 25.8, 10.3458],\n",
       "       [273.0, 23.0, 25.0, 28.0, 11.088],\n",
       "       [300.0, 24.0, 26.0, 29.0, 11.368],\n",
       "       [5.9, 7.5, 8.4, 8.8, 2.112],\n",
       "       [32.0, 12.5, 13.7, 14.7, 3.528],\n",
       "       [40.0, 13.8, 15.0, 16.0, 3.824],\n",
       "       [51.5, 15.0, 16.2, 17.2, 4.5924],\n",
       "       [70.0, 15.7, 17.4, 18.5, 4.588],\n",
       "       [100.0, 16.2, 18.0, 19.2, 5.2224],\n",
       "       [78.0, 16.8, 18.7, 19.4, 5.1992],\n",
       "       [80.0, 17.2, 19.0, 20.2, 5.6358],\n",
       "       [85.0, 17.8, 19.6, 20.8, 5.1376],\n",
       "       [85.0, 18.2, 20.0, 21.0, 5.082],\n",
       "       [110.0, 19.0, 21.0, 22.5, 5.6925],\n",
       "       [115.0, 19.0, 21.0, 22.5, 5.9175],\n",
       "       [125.0, 19.0, 21.0, 22.5, 5.6925],\n",
       "       [130.0, 19.3, 21.3, 22.8, 6.3839999999999995],\n",
       "       [120.0, 20.0, 22.0, 23.5, 6.11],\n",
       "       [120.0, 20.0, 22.0, 23.5, 5.64],\n",
       "       [130.0, 20.0, 22.0, 23.5, 6.11],\n",
       "       [135.0, 20.0, 22.0, 23.5, 5.875],\n",
       "       [110.0, 20.0, 22.0, 23.5, 5.5225],\n",
       "       [130.0, 20.5, 22.5, 24.0, 5.856],\n",
       "       [150.0, 20.5, 22.5, 24.0, 6.792000000000001],\n",
       "       [145.0, 20.7, 22.7, 24.2, 5.9532],\n",
       "       [150.0, 21.0, 23.0, 24.5, 5.2185],\n",
       "       [170.0, 21.5, 23.5, 25.0, 6.275],\n",
       "       [225.0, 22.0, 24.0, 25.5, 7.292999999999999],\n",
       "       [145.0, 22.0, 24.0, 25.5, 6.375],\n",
       "       [188.0, 22.6, 24.6, 26.2, 6.7334],\n",
       "       [180.0, 23.0, 25.0, 26.5, 6.4395],\n",
       "       [197.0, 23.5, 25.6, 27.0, 6.561],\n",
       "       [218.0, 25.0, 26.5, 28.0, 7.167999999999999],\n",
       "       [300.0, 25.2, 27.3, 28.7, 8.323],\n",
       "       [260.0, 25.4, 27.5, 28.9, 7.1672],\n",
       "       [265.0, 25.4, 27.5, 28.9, 7.0516],\n",
       "       [250.0, 25.4, 27.5, 28.9, 7.2828],\n",
       "       [250.0, 25.9, 28.0, 29.4, 7.8204],\n",
       "       [300.0, 26.9, 28.7, 30.1, 7.5852],\n",
       "       [320.0, 27.8, 30.0, 31.6, 7.6156],\n",
       "       [514.0, 30.5, 32.8, 34.0, 10.03],\n",
       "       [556.0, 32.0, 34.5, 36.5, 10.2565],\n",
       "       [840.0, 32.5, 35.0, 37.3, 11.4884],\n",
       "       [685.0, 34.0, 36.5, 39.0, 10.880999999999998],\n",
       "       [700.0, 34.0, 36.0, 38.3, 10.6091],\n",
       "       [700.0, 34.5, 37.0, 39.4, 10.835],\n",
       "       [690.0, 34.6, 37.0, 39.3, 10.5717],\n",
       "       [900.0, 36.5, 39.0, 41.4, 11.1366],\n",
       "       [650.0, 36.5, 39.0, 41.4, 11.1366],\n",
       "       [820.0, 36.6, 39.0, 41.3, 12.4313],\n",
       "       [850.0, 36.9, 40.0, 42.3, 11.9286],\n",
       "       [900.0, 37.0, 40.0, 42.5, 11.73],\n",
       "       [1015.0, 37.0, 40.0, 42.4, 12.3808],\n",
       "       [820.0, 37.1, 40.0, 42.5, 11.135],\n",
       "       [1100.0, 39.0, 42.0, 44.6, 12.8002],\n",
       "       [1000.0, 39.8, 43.0, 45.2, 11.9328],\n",
       "       [1100.0, 40.1, 43.0, 45.5, 12.5125],\n",
       "       [1000.0, 40.2, 43.5, 46.0, 12.604000000000001],\n",
       "       [1000.0, 41.1, 44.0, 46.6, 12.4888],\n",
       "       [200.0, 30.0, 32.3, 34.8, 5.568],\n",
       "       [300.0, 31.7, 34.0, 37.8, 5.7078],\n",
       "       [300.0, 32.7, 35.0, 38.8, 5.9364],\n",
       "       [300.0, 34.8, 37.3, 39.8, 6.2884],\n",
       "       [430.0, 35.5, 38.0, 40.5, 7.29],\n",
       "       [345.0, 36.0, 38.5, 41.0, 6.396],\n",
       "       [456.0, 40.0, 42.5, 45.5, 7.28],\n",
       "       [510.0, 40.0, 42.5, 45.5, 6.825],\n",
       "       [540.0, 40.1, 43.0, 45.8, 7.7860000000000005],\n",
       "       [500.0, 42.0, 45.0, 48.0, 6.96],\n",
       "       [567.0, 43.2, 46.0, 48.7, 7.792000000000001],\n",
       "       [770.0, 44.8, 48.0, 51.2, 7.68],\n",
       "       [950.0, 48.3, 51.7, 55.1, 8.9262],\n",
       "       [1250.0, 52.0, 56.0, 59.7, 10.6863],\n",
       "       [1600.0, 56.0, 60.0, 64.0, 9.6],\n",
       "       [1550.0, 56.0, 60.0, 64.0, 9.6],\n",
       "       [1650.0, 59.0, 63.4, 68.0, 10.812000000000001],\n",
       "       [6.7, 9.3, 9.8, 10.8, 1.7388],\n",
       "       [7.5, 10.0, 10.5, 11.6, 1.972],\n",
       "       [7.0, 10.1, 10.6, 11.6, 1.7284],\n",
       "       [9.7, 10.4, 11.0, 12.0, 2.1959999999999997],\n",
       "       [9.8, 10.7, 11.2, 12.4, 2.0832],\n",
       "       [8.7, 10.8, 11.3, 12.6, 1.9782],\n",
       "       [10.0, 11.3, 11.8, 13.1, 2.2139],\n",
       "       [9.9, 11.3, 11.8, 13.1, 2.2139],\n",
       "       [9.8, 11.4, 12.0, 13.2, 2.2044],\n",
       "       [12.2, 11.5, 12.2, 13.4, 2.0904],\n",
       "       [13.4, 11.7, 12.4, 13.5, 2.43],\n",
       "       [12.2, 12.1, 13.0, 13.8, 2.2769999999999997],\n",
       "       [19.7, 13.2, 14.3, 15.2, 2.8728],\n",
       "       [19.9, 13.8, 15.0, 16.2, 2.9322]], dtype=object)"
      ]
     },
     "execution_count": 12,
     "metadata": {},
     "output_type": "execute_result"
    }
   ],
   "source": [
    "X"
   ]
  },
  {
   "cell_type": "code",
   "execution_count": 14,
   "metadata": {},
   "outputs": [
    {
     "data": {
      "text/plain": [
       "array(['Bream', 'Bream', 'Bream', 'Bream', 'Bream', 'Bream', 'Bream',\n",
       "       'Bream', 'Bream', 'Bream', 'Bream', 'Bream', 'Bream', 'Bream',\n",
       "       'Bream', 'Bream', 'Bream', 'Bream', 'Bream', 'Bream', 'Bream',\n",
       "       'Bream', 'Bream', 'Bream', 'Bream', 'Bream', 'Bream', 'Bream',\n",
       "       'Bream', 'Bream', 'Bream', 'Bream', 'Bream', 'Bream', 'Bream',\n",
       "       'Roach', 'Roach', 'Roach', 'Roach', 'Roach', 'Roach', 'Roach',\n",
       "       'Roach', 'Roach', 'Roach', 'Roach', 'Roach', 'Roach', 'Roach',\n",
       "       'Roach', 'Roach', 'Roach', 'Roach', 'Roach', 'Roach', 'Whitefish',\n",
       "       'Whitefish', 'Whitefish', 'Whitefish', 'Whitefish', 'Whitefish',\n",
       "       'Parkki', 'Parkki', 'Parkki', 'Parkki', 'Parkki', 'Parkki',\n",
       "       'Parkki', 'Parkki', 'Parkki', 'Parkki', 'Parkki', 'Perch', 'Perch',\n",
       "       'Perch', 'Perch', 'Perch', 'Perch', 'Perch', 'Perch', 'Perch',\n",
       "       'Perch', 'Perch', 'Perch', 'Perch', 'Perch', 'Perch', 'Perch',\n",
       "       'Perch', 'Perch', 'Perch', 'Perch', 'Perch', 'Perch', 'Perch',\n",
       "       'Perch', 'Perch', 'Perch', 'Perch', 'Perch', 'Perch', 'Perch',\n",
       "       'Perch', 'Perch', 'Perch', 'Perch', 'Perch', 'Perch', 'Perch',\n",
       "       'Perch', 'Perch', 'Perch', 'Perch', 'Perch', 'Perch', 'Perch',\n",
       "       'Perch', 'Perch', 'Perch', 'Perch', 'Perch', 'Perch', 'Perch',\n",
       "       'Perch', 'Perch', 'Perch', 'Perch', 'Perch', 'Pike', 'Pike',\n",
       "       'Pike', 'Pike', 'Pike', 'Pike', 'Pike', 'Pike', 'Pike', 'Pike',\n",
       "       'Pike', 'Pike', 'Pike', 'Pike', 'Pike', 'Pike', 'Pike', 'Smelt',\n",
       "       'Smelt', 'Smelt', 'Smelt', 'Smelt', 'Smelt', 'Smelt', 'Smelt',\n",
       "       'Smelt', 'Smelt', 'Smelt', 'Smelt', 'Smelt', 'Smelt'], dtype=object)"
      ]
     },
     "execution_count": 14,
     "metadata": {},
     "output_type": "execute_result"
    }
   ],
   "source": [
    "y"
   ]
  },
  {
   "cell_type": "code",
   "execution_count": null,
   "metadata": {},
   "outputs": [],
   "source": []
  }
 ],
 "metadata": {
  "kernelspec": {
   "display_name": "Python 3",
   "language": "python",
   "name": "python3"
  },
  "language_info": {
   "codemirror_mode": {
    "name": "ipython",
    "version": 3
   },
   "file_extension": ".py",
   "mimetype": "text/x-python",
   "name": "python",
   "nbconvert_exporter": "python",
   "pygments_lexer": "ipython3",
   "version": "3.7.3"
  }
 },
 "nbformat": 4,
 "nbformat_minor": 4
}
